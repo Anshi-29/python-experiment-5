{
 "cells": [
  {
   "cell_type": "code",
   "execution_count": 2,
   "metadata": {},
   "outputs": [
    {
     "data": {
      "text/html": [
       "<div>\n",
       "<style scoped>\n",
       "    .dataframe tbody tr th:only-of-type {\n",
       "        vertical-align: middle;\n",
       "    }\n",
       "\n",
       "    .dataframe tbody tr th {\n",
       "        vertical-align: top;\n",
       "    }\n",
       "\n",
       "    .dataframe thead th {\n",
       "        text-align: right;\n",
       "    }\n",
       "</style>\n",
       "<table border=\"1\" class=\"dataframe\">\n",
       "  <thead>\n",
       "    <tr style=\"text-align: right;\">\n",
       "      <th></th>\n",
       "      <th>StudentID</th>\n",
       "      <th>Gender</th>\n",
       "      <th>Age</th>\n",
       "      <th>StudyHoursPerWeek</th>\n",
       "      <th>AttendanceRate</th>\n",
       "      <th>GPA</th>\n",
       "      <th>Major</th>\n",
       "      <th>PartTimeJob</th>\n",
       "      <th>ExtraCurricularActivities</th>\n",
       "    </tr>\n",
       "  </thead>\n",
       "  <tbody>\n",
       "    <tr>\n",
       "      <th>0</th>\n",
       "      <td>1</td>\n",
       "      <td>Male</td>\n",
       "      <td>24</td>\n",
       "      <td>37</td>\n",
       "      <td>90.75</td>\n",
       "      <td>3.47</td>\n",
       "      <td>Arts</td>\n",
       "      <td>Yes</td>\n",
       "      <td>No</td>\n",
       "    </tr>\n",
       "    <tr>\n",
       "      <th>1</th>\n",
       "      <td>2</td>\n",
       "      <td>Female</td>\n",
       "      <td>22</td>\n",
       "      <td>37</td>\n",
       "      <td>74.90</td>\n",
       "      <td>2.32</td>\n",
       "      <td>Education</td>\n",
       "      <td>No</td>\n",
       "      <td>No</td>\n",
       "    </tr>\n",
       "    <tr>\n",
       "      <th>2</th>\n",
       "      <td>3</td>\n",
       "      <td>Male</td>\n",
       "      <td>22</td>\n",
       "      <td>10</td>\n",
       "      <td>53.36</td>\n",
       "      <td>2.38</td>\n",
       "      <td>Business</td>\n",
       "      <td>No</td>\n",
       "      <td>No</td>\n",
       "    </tr>\n",
       "    <tr>\n",
       "      <th>3</th>\n",
       "      <td>4</td>\n",
       "      <td>Male</td>\n",
       "      <td>24</td>\n",
       "      <td>10</td>\n",
       "      <td>70.26</td>\n",
       "      <td>3.46</td>\n",
       "      <td>Science</td>\n",
       "      <td>Yes</td>\n",
       "      <td>No</td>\n",
       "    </tr>\n",
       "    <tr>\n",
       "      <th>4</th>\n",
       "      <td>5</td>\n",
       "      <td>Male</td>\n",
       "      <td>18</td>\n",
       "      <td>19</td>\n",
       "      <td>74.87</td>\n",
       "      <td>2.31</td>\n",
       "      <td>Education</td>\n",
       "      <td>Yes</td>\n",
       "      <td>No</td>\n",
       "    </tr>\n",
       "  </tbody>\n",
       "</table>\n",
       "</div>"
      ],
      "text/plain": [
       "   StudentID  Gender  Age  StudyHoursPerWeek  AttendanceRate   GPA      Major  \\\n",
       "0          1    Male   24                 37           90.75  3.47       Arts   \n",
       "1          2  Female   22                 37           74.90  2.32  Education   \n",
       "2          3    Male   22                 10           53.36  2.38   Business   \n",
       "3          4    Male   24                 10           70.26  3.46    Science   \n",
       "4          5    Male   18                 19           74.87  2.31  Education   \n",
       "\n",
       "  PartTimeJob ExtraCurricularActivities  \n",
       "0         Yes                        No  \n",
       "1          No                        No  \n",
       "2          No                        No  \n",
       "3         Yes                        No  \n",
       "4         Yes                        No  "
      ]
     },
     "execution_count": 2,
     "metadata": {},
     "output_type": "execute_result"
    }
   ],
   "source": [
    "import pandas as pd\n",
    "data = pd.read_csv('student_performance_data.csv')\n",
    "data.head()\n"
   ]
  },
  {
   "cell_type": "code",
   "execution_count": 1,
   "metadata": {},
   "outputs": [
    {
     "name": "stdout",
     "output_type": "stream",
     "text": [
      "Index(['StudentID', 'Gender', 'Age', 'StudyHoursPerWeek', 'AttendanceRate',\n",
      "       'GPA', 'Major', 'PartTimeJob', 'ExtraCurricularActivities'],\n",
      "      dtype='object')\n",
      "0      379\n",
      "1      226\n",
      "2       35\n",
      "3      177\n",
      "4      225\n",
      "      ... \n",
      "495    243\n",
      "496     67\n",
      "497     70\n",
      "498     73\n",
      "499    436\n",
      "Name: AttendanceRate, Length: 500, dtype: int64\n"
     ]
    }
   ],
   "source": [
    "import pandas as pd\n",
    "from sklearn.preprocessing import LabelEncoder\n",
    "data = pd.read_csv('student_performance_data.csv')\n",
    "print(data.columns)\n",
    "encoder = LabelEncoder()\n",
    "data['AttendanceRate'] = encoder.fit_transform(data['AttendanceRate'])\n",
    "print(data['AttendanceRate'])\n"
   ]
  },
  {
   "cell_type": "code",
   "execution_count": 6,
   "metadata": {},
   "outputs": [
    {
     "name": "stdout",
     "output_type": "stream",
     "text": [
      "0      1\n",
      "1      0\n",
      "2      0\n",
      "3      1\n",
      "4      1\n",
      "      ..\n",
      "495    0\n",
      "496    0\n",
      "497    0\n",
      "498    0\n",
      "499    0\n",
      "Name: PartTimeJob, Length: 500, dtype: int32\n"
     ]
    }
   ],
   "source": [
    "import pandas as pd\n",
    "data = pd.read_csv('student_performance_data.csv')\n",
    "from sklearn.preprocessing import LabelEncoder\n",
    "Labelencoder = LabelEncoder()\n",
    "data['PartTimeJob'] = Labelencoder.fit_transform(data['PartTimeJob'])\n",
    "print(data['PartTimeJob'])"
   ]
  },
  {
   "cell_type": "code",
   "execution_count": 3,
   "metadata": {},
   "outputs": [
    {
     "name": "stdout",
     "output_type": "stream",
     "text": [
      "0      90.75\n",
      "1      74.90\n",
      "2      53.36\n",
      "3      70.26\n",
      "4      74.87\n",
      "       ...  \n",
      "495    76.61\n",
      "496    56.29\n",
      "497    56.64\n",
      "498    57.18\n",
      "499    96.99\n",
      "Name: AttendanceRate, Length: 500, dtype: float64\n"
     ]
    }
   ],
   "source": [
    "import pandas as pd\n",
    "data = pd.read_csv('student_performance_data.csv')\n",
    "data['AttendanceRate'] = data['AttendanceRate'].replace({'none':0, 'completed':1})\n",
    "print(data['AttendanceRate'])\n",
    "\n"
   ]
  },
  {
   "cell_type": "code",
   "execution_count": 4,
   "metadata": {},
   "outputs": [
    {
     "name": "stdout",
     "output_type": "stream",
     "text": [
      "   StudentID  Gender  Age  StudyHoursPerWeek  AttendanceRate   GPA      Major  \\\n",
      "0          1    Male   24                 37           90.75  3.47       Arts   \n",
      "1          2  Female   22                 37           74.90  2.32  Education   \n",
      "2          3    Male   22                 10           53.36  2.38   Business   \n",
      "3          4    Male   24                 10           70.26  3.46    Science   \n",
      "4          5    Male   18                 19           74.87  2.31  Education   \n",
      "\n",
      "  PartTimeJob ExtraCurricularActivities  \n",
      "0         Yes                        No  \n",
      "1          No                        No  \n",
      "2          No                        No  \n",
      "3         Yes                        No  \n",
      "4         Yes                        No  \n",
      "0      0.815452\n",
      "1      0.498199\n",
      "2      0.067054\n",
      "3      0.405324\n",
      "4      0.497598\n",
      "         ...   \n",
      "495    0.532426\n",
      "496    0.125701\n",
      "497    0.132706\n",
      "498    0.143515\n",
      "499    0.940352\n",
      "Name: AttendanceRate, Length: 500, dtype: float64\n"
     ]
    }
   ],
   "source": [
    "\n",
    "import pandas as pd\n",
    "from sklearn.preprocessing import MinMaxScaler\n",
    "data = pd.read_csv('student_performance_data.csv')\n",
    "print(data.head())\n",
    "scaler = MinMaxScaler()\n",
    "data['AttendanceRate'] = scaler.fit_transform(data['AttendanceRate'].values.reshape(-1,1))\n",
    "print(data['AttendanceRate'])"
   ]
  },
  {
   "cell_type": "code",
   "execution_count": 5,
   "metadata": {},
   "outputs": [
    {
     "name": "stdout",
     "output_type": "stream",
     "text": [
      "   StudentID  Gender  Age  StudyHoursPerWeek  AttendanceRate   GPA      Major  \\\n",
      "0          1    Male   24                 37           90.75  3.47       Arts   \n",
      "1          2  Female   22                 37           74.90  2.32  Education   \n",
      "2          3    Male   22                 10           53.36  2.38   Business   \n",
      "3          4    Male   24                 10           70.26  3.46    Science   \n",
      "4          5    Male   18                 19           74.87  2.31  Education   \n",
      "\n",
      "  PartTimeJob ExtraCurricularActivities  \n",
      "0         Yes                        No  \n",
      "1          No                        No  \n",
      "2          No                        No  \n",
      "3         Yes                        No  \n",
      "4         Yes                        No  \n",
      "0      1.083035\n",
      "1     -0.006211\n",
      "2     -1.486487\n",
      "3     -0.325082\n",
      "4     -0.008273\n",
      "         ...   \n",
      "495    0.111304\n",
      "496   -1.285131\n",
      "497   -1.261078\n",
      "498   -1.223968\n",
      "499    1.511862\n",
      "Name: AttendanceRate_zscore, Length: 500, dtype: float64\n"
     ]
    }
   ],
   "source": [
    "import pandas as pd\n",
    "from sklearn.preprocessing import StandardScaler\n",
    "data = pd.read_csv('student_performance_data.csv')\n",
    "print(data.head())\n",
    "scaler = StandardScaler()\n",
    "data['AttendanceRate_zscore'] = scaler.fit_transform(data['AttendanceRate'].values.reshape(-1,1))\n",
    "print(data['AttendanceRate_zscore'])"
   ]
  },
  {
   "cell_type": "code",
   "execution_count": 6,
   "metadata": {},
   "outputs": [
    {
     "name": "stdout",
     "output_type": "stream",
     "text": [
      "   StudentID  Gender  Age  StudyHoursPerWeek  AttendanceRate   GPA      Major  \\\n",
      "0          1    Male   24                 37           90.75  3.47       Arts   \n",
      "1          2  Female   22                 37           74.90  2.32  Education   \n",
      "2          3    Male   22                 10           53.36  2.38   Business   \n",
      "3          4    Male   24                 10           70.26  3.46    Science   \n",
      "4          5    Male   18                 19           74.87  2.31  Education   \n",
      "\n",
      "  PartTimeJob ExtraCurricularActivities  \n",
      "0         Yes                        No  \n",
      "1          No                        No  \n",
      "2          No                        No  \n",
      "3         Yes                        No  \n",
      "4         Yes                        No  \n",
      "0      1.083035\n",
      "1     -0.006211\n",
      "2     -1.486487\n",
      "3     -0.325082\n",
      "4     -0.008273\n",
      "         ...   \n",
      "495    0.111304\n",
      "496   -1.285131\n",
      "497   -1.261078\n",
      "498   -1.223968\n",
      "499    1.511862\n",
      "Name: AttendanceRate_Standardized, Length: 500, dtype: float64\n"
     ]
    }
   ],
   "source": [
    "import pandas as pd\n",
    "from sklearn.preprocessing import StandardScaler\n",
    "data = pd.read_csv('student_performance_data.csv')\n",
    "print(data.head())\n",
    "scaler = StandardScaler()\n",
    "data['AttendanceRate_Standardized'] =  scaler.fit_transform(data['AttendanceRate'].values.reshape(-1,1))\n",
    "print(data['AttendanceRate_Standardized'])\n"
   ]
  },
  {
   "cell_type": "code",
   "execution_count": 7,
   "metadata": {},
   "outputs": [
    {
     "name": "stdout",
     "output_type": "stream",
     "text": [
      "0      15.75962\n",
      "1       0.09038\n",
      "2      21.63038\n",
      "3       4.73038\n",
      "4       0.12038\n",
      "         ...   \n",
      "495     1.61962\n",
      "496    18.70038\n",
      "497    18.35038\n",
      "498    17.81038\n",
      "499    21.99962\n",
      "Name: AttendanceRate_absolute, Length: 500, dtype: float64\n"
     ]
    }
   ],
   "source": [
    "import pandas as pd\n",
    "data =pd.read_csv('student_performance_data.csv')\n",
    "data['AttendanceRate_absolute'] = (data['AttendanceRate'] - data['AttendanceRate'].mean()).abs()\n",
    "print(data['AttendanceRate_absolute'])"
   ]
  },
  {
   "cell_type": "code",
   "execution_count": null,
   "metadata": {},
   "outputs": [
    {
     "name": "stdout",
     "output_type": "stream",
     "text": [
      "   StudentID  Gender  Age  StudyHoursPerWeek  AttendanceRate   GPA      Major  \\\n",
      "0          1    Male   24                 37           90.75  3.47       Arts   \n",
      "1          2  Female   22                 37           74.90  2.32  Education   \n",
      "2          3    Male   22                 10           53.36  2.38   Business   \n",
      "3          4    Male   24                 10           70.26  3.46    Science   \n",
      "4          5    Male   18                 19           74.87  2.31  Education   \n",
      "\n",
      "  PartTimeJob ExtraCurricularActivities  \n",
      "0         Yes                        No  \n",
      "1          No                        No  \n",
      "2          No                        No  \n",
      "3         Yes                        No  \n",
      "4         Yes                        No  \n",
      "        PC1       PC2\n",
      "0 -2.007434 -0.156595\n",
      "1 -0.280692 -0.911512\n",
      "2  1.955732  0.253073\n",
      "3  0.256757  0.867871\n",
      "4  0.708814 -0.869918\n"
     ]
    }
   ],
   "source": [
    "# PCA( principal component analysis)\n",
    "import pandas as pd\n",
    "from sklearn.decomposition import PCA\n",
    "from sklearn.preprocessing import StandardScaler\n",
    "data = pd.read_csv('student_performance_data.csv')\n",
    "print(data.head())\n",
    "numerical_data =data[['AttendanceRate' ,'GPA' ,'StudyHoursPerWeek']]\n",
    "scaler = StandardScaler()\n",
    "scaled_data = scaler.fit_transform(numerical_data)\n",
    "pca = PCA(n_components=2)\n",
    "data_pca = pca.fit_transform(scaled_data)\n",
    "pca_df = pd.DataFrame(data_pca, columns=['PC1', 'PC2'])\n",
    "print(pca_df.head())\n"
   ]
  }
 ],
 "metadata": {
  "kernelspec": {
   "display_name": "base",
   "language": "python",
   "name": "python3"
  },
  "language_info": {
   "codemirror_mode": {
    "name": "ipython",
    "version": 3
   },
   "file_extension": ".py",
   "mimetype": "text/x-python",
   "name": "python",
   "nbconvert_exporter": "python",
   "pygments_lexer": "ipython3",
   "version": "3.12.4"
  }
 },
 "nbformat": 4,
 "nbformat_minor": 2
}
